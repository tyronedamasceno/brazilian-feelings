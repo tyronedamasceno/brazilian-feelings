{
  "nbformat": 4,
  "nbformat_minor": 0,
  "metadata": {
    "colab": {
      "name": "brazilian_feelings.ipynb",
      "version": "0.3.2",
      "provenance": [],
      "collapsed_sections": [],
      "include_colab_link": true
    },
    "kernelspec": {
      "name": "python3",
      "display_name": "Python 3"
    },
    "accelerator": "GPU"
  },
  "cells": [
    {
      "cell_type": "markdown",
      "metadata": {
        "id": "view-in-github",
        "colab_type": "text"
      },
      "source": [
        "[View in Colaboratory](https://colab.research.google.com/github/tyronedamasceno/brazilian-feelings/blob/master/brazilian_feelings.ipynb)"
      ]
    },
    {
      "metadata": {
        "id": "g2E2M-Zlzj-Z",
        "colab_type": "text"
      },
      "cell_type": "markdown",
      "source": [
        "# Análise de sentimentos por região\n",
        "\n",
        "Uma das áreas de ciência de dados que tem apresentado grande crescimento é a análise de sentimentos.\n",
        "\n",
        "Nesse notebook vamos ver uma forma de analisar como está o sentimento dos usuários do twitter sobre ~~politica~~ um determinado assunto. Além disso essa análise poderá ser feitas sobre as regiões, visto que um mesmo assunto pode causar diferentes reações em locais variados."
      ]
    },
    {
      "metadata": {
        "id": "Iae0kxVQ39it",
        "colab_type": "text"
      },
      "cell_type": "markdown",
      "source": [
        "## Pré-requisitos\n",
        "\n",
        "- Python3\n",
        "- TextBlob\n",
        "- TweePy\n",
        "- Numpy\n",
        "- Conta no twitter\n"
      ]
    },
    {
      "metadata": {
        "id": "tB1uwxoRyZNX",
        "colab_type": "code",
        "colab": {}
      },
      "cell_type": "code",
      "source": [
        "!pip install tweepy textblob numpy\n",
        "!python -m textblob.download_corpora"
      ],
      "execution_count": 0,
      "outputs": []
    },
    {
      "metadata": {
        "id": "WaK-_2xd5WE_",
        "colab_type": "text"
      },
      "cell_type": "markdown",
      "source": [
        "## Perfil de desenvolvedor\n",
        "\n",
        "Após instalar as bibliotecas será necessário (se você não possuir ainda) criar uma conta de desenvolvedor no twitter.\n",
        "\n",
        "Isso pode ser feito acessando a página de [desenvolvedores](https://developer.twitter.com) do twitter (logado na sua conta) e clicar em _apply for a development account_\n",
        "\n",
        "Após sua conta ser aceita (as vezes é rápido, as vezes demora...) você precisa criar um app e guardar as credenciais dele.\n",
        "\n",
        "- Consumer API keys\n",
        "- Access token & access token secret"
      ]
    },
    {
      "metadata": {
        "id": "_kDiCId5-8XT",
        "colab_type": "text"
      },
      "cell_type": "markdown",
      "source": [
        "## Vamos a luta!\n",
        "\n",
        "Agora de posse de tudo que é necessário, mãos a obra!"
      ]
    },
    {
      "metadata": {
        "id": "MB7Pz0ox_D3b",
        "colab_type": "code",
        "colab": {}
      },
      "cell_type": "code",
      "source": [
        "import tweepy\n",
        "import numpy as np\n",
        "from textblob import TextBlob"
      ],
      "execution_count": 0,
      "outputs": []
    },
    {
      "metadata": {
        "id": "IeOy1Fxj-YFg",
        "colab_type": "code",
        "colab": {}
      },
      "cell_type": "code",
      "source": [
        "consumer_key='your_consumer_key'\n",
        "consumer_secret='consumer_secret'\n",
        "\n",
        "access_token='access_token'\n",
        "access_token_secret='access_token_secret'"
      ],
      "execution_count": 0,
      "outputs": []
    },
    {
      "metadata": {
        "id": "UiNuiRBO_QY6",
        "colab_type": "text"
      },
      "cell_type": "markdown",
      "source": [
        "Agora, pra confirmar se deu tudo certo, façamos a autenticação na API do twitter"
      ]
    },
    {
      "metadata": {
        "id": "SI_-9Os1_e8Q",
        "colab_type": "code",
        "colab": {
          "base_uri": "https://localhost:8080/",
          "height": 34
        },
        "outputId": "6713bdb3-5785-4dd5-857c-d2fcbca3c16b"
      },
      "cell_type": "code",
      "source": [
        "auth = tweepy.OAuthHandler(consumer_key,consumer_secret)\n",
        "auth.set_access_token(access_token,access_token_secret)\n",
        "\n",
        "api = tweepy.API(auth)\n",
        "\n",
        "api"
      ],
      "execution_count": 17,
      "outputs": [
        {
          "output_type": "execute_result",
          "data": {
            "text/plain": [
              "<tweepy.api.API at 0x7ff577194940>"
            ]
          },
          "metadata": {
            "tags": []
          },
          "execution_count": 17
        }
      ]
    },
    {
      "metadata": {
        "id": "73zGsI88_-Ig",
        "colab_type": "text"
      },
      "cell_type": "markdown",
      "source": [
        "Se deu tudo certo, vamos ao que interessa, buscar os dados para trabalhar!!!"
      ]
    },
    {
      "metadata": {
        "id": "0lxp4d4DADUm",
        "colab_type": "code",
        "colab": {}
      },
      "cell_type": "code",
      "source": [
        "tweets = api.search('Bolsonaro -filter:retweets')"
      ],
      "execution_count": 0,
      "outputs": []
    },
    {
      "metadata": {
        "id": "qMBJzbFuAN5a",
        "colab_type": "text"
      },
      "cell_type": "markdown",
      "source": [
        "O trecho \"-filter:retweets\" serve para que os retweets não sejam trazidos para nossa base, evitando que haja repetição de dados\n",
        "\n",
        "Agora, vamos iterar sobre todos os tweets recuperados, colocando o conteúdo de texto (tweet.text) em um TextBlob"
      ]
    },
    {
      "metadata": {
        "id": "52ugvHb4ANLi",
        "colab_type": "code",
        "colab": {}
      },
      "cell_type": "code",
      "source": [
        "for tweet in tweets:\n",
        "  print(TextBlob(tweet.text))"
      ],
      "execution_count": 0,
      "outputs": []
    },
    {
      "metadata": {
        "id": "r7BsWI7rNUHQ",
        "colab_type": "text"
      },
      "cell_type": "markdown",
      "source": [
        "Um \"problema\" que temos é que o algoritmo de análise de sentimentos do TextBlob foi treinado em inglês, portanto usaremos um recurso que faz a tradução para inglês dos tweets que tiverem em outros idiomas. \n",
        "\n",
        "Primeiro criaremos uma função que detecta se o tweet está em inglês"
      ]
    },
    {
      "metadata": {
        "id": "UvMHw8T4NThW",
        "colab_type": "code",
        "colab": {}
      },
      "cell_type": "code",
      "source": [
        "def is_english(text):\n",
        "  if text.detect_language() == \"en\":\n",
        "    return True\n",
        "  return False"
      ],
      "execution_count": 0,
      "outputs": []
    },
    {
      "metadata": {
        "id": "Pok-LpJfOHwr",
        "colab_type": "text"
      },
      "cell_type": "markdown",
      "source": [
        "Dentro do laço for vamos verificar se o texto está em inglês, se não estiver faremos a tradução deste. Em seguida, faremos a análise de sentimentos"
      ]
    },
    {
      "metadata": {
        "id": "NA1Zj1jrOXG0",
        "colab_type": "code",
        "colab": {
          "base_uri": "https://localhost:8080/",
          "height": 870
        },
        "outputId": "ae46dc22-9ea5-40a2-8dc8-c17288acac5b"
      },
      "cell_type": "code",
      "source": [
        "for tweet in tweets:\n",
        "  text = TextBlob(tweet.text)\n",
        "  \n",
        "  if not is_english(text):\n",
        "    text = TextBlob(str(text.translate(to='en')))\n",
        "  \n",
        "  print('Tweet: ' + tweet.text)\n",
        "  print('Polarity: ' + str(text.sentiment.polarity) + \" \\ \" + str(text.sentiment.subjectivity))\n",
        "  print('.....................')"
      ],
      "execution_count": 43,
      "outputs": [
        {
          "output_type": "stream",
          "text": [
            "Tweet: https://t.co/rDrzKGuu0k\n",
            "Polarity: 0.0 \\ 0.0\n",
            ".....................\n",
            "Tweet: @quezialopes18 @emersonpabllo @R0bert0rj @silasdesouza777 @ElvisAaronReis1 @alefrotabrasil @majorolimpio Que lutass… https://t.co/kpBD2h9kZn\n",
            "Polarity: 0.0 \\ 0.0\n",
            ".....................\n",
            "Tweet: Haddad pide reemplazar debate por entrevista ante ausencia de Bolsonaro https://t.co/CU9gtwxZiH https://t.co/STbY5EMwYE\n",
            "Polarity: -0.0125 \\ 0.0\n",
            ".....................\n",
            "Tweet: “O pobre nesse brasil só tem uma utilidade que é votar \n",
            "Título de eleitor na mão e diploma de burro no bolso”\n",
            "\n",
            "Os p… https://t.co/IlHpiI9GC2\n",
            "Polarity: -0.2 \\ 0.8\n",
            ".....................\n",
            "Tweet: @Tudo_Azulll @Evertonpassos93 @folha Pq se é tipo isso aqui, tem que ser retardado mental pra achar que é um robô\n",
            "P… https://t.co/ZGSeh8q49u\n",
            "Polarity: -0.10000000000000003 \\ 0.8500000000000001\n",
            ".....................\n",
            "Tweet: Eu sou obrigada a ouvir meu padrasto falar que se o bolsonaro ganhar, realmente varios inocentes que moram na favel… https://t.co/384sJbeUtr\n",
            "Polarity: 0.2340909090909091 \\ 0.35\n",
            ".....................\n",
            "Tweet: \"O grande erro da ditadura foi torturar, e não matar.\" Jair Bolsonaro #SeuVotoMePõeEmRisco\n",
            "Polarity: 0.8 \\ 0.75\n",
            ".....................\n",
            "Tweet: Bolsonaro diz que política de cotas é 'equivocada' e que política de combate ao preconceito é 'coitadismo' https://t.co/6FRcmmJrEO\n",
            "Polarity: -0.5 \\ 0.9\n",
            ".....................\n",
            "Tweet: EXTREMISTA FUGIU: TSE favorece Bolsonaro e não aceita entrevista de Haddad na Globo https://t.co/mIZc1ZGTLD\n",
            "Polarity: 0.0 \\ 0.0\n",
            ".....................\n",
            "Tweet: Teste para ver se aparece algum robô... Bolsonaro foi capitão do Exército.\n",
            "Polarity: 0.0 \\ 0.0\n",
            ".....................\n",
            "Tweet: I added a video to a @YouTube playlist https://t.co/F8c0EPlfyE FUI DE BOLSONARO NA CARREATA DO PT E...\n",
            "Polarity: 0.0 \\ 0.0\n",
            ".....................\n",
            "Tweet: Evangélicos criam movimentos contra Bolsonaro por todo o país https://t.co/f7qvNPGawU\n",
            "Polarity: 0.0 \\ 0.0\n",
            ".....................\n",
            "Tweet: acho que podemos concordar que o filho mais novo do bolsonaro eh o filho viado ne\n",
            "Polarity: 0.0 \\ 0.0\n",
            ".....................\n",
            "Tweet: @GilbersonFerre1 @AnthonyBRodrig @delucca A foto é verídica, mas é da Doca de Belém do Pára, estado que Bolsonaro perdeu.\n",
            "Polarity: 0.35 \\ 0.65\n",
            ".....................\n",
            "Tweet: Os eleitores decididos votar em Bolsonaro é maior, mantendo-se em 94%. Segundo a pesquisa BTG Pactual / FSB… https://t.co/q7zQQ1l030\n",
            "Polarity: 0.25 \\ 0.5\n",
            ".....................\n"
          ],
          "name": "stdout"
        }
      ]
    }
  ]
}